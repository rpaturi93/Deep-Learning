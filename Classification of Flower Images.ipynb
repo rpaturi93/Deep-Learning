{
 "cells": [
  {
   "cell_type": "markdown",
   "metadata": {
    "colab_type": "text",
    "id": "ScP1qPMEqJAj"
   },
   "source": [
    "## Import Libraries"
   ]
  },
  {
   "cell_type": "code",
   "execution_count": 6,
   "metadata": {
    "colab": {
     "base_uri": "https://localhost:8080/",
     "height": 52
    },
    "colab_type": "code",
    "id": "tn7xF2gB26b_",
    "outputId": "163e2f93-8a97-470f-b85c-dfb43e670cc8"
   },
   "outputs": [
    {
     "name": "stdout",
     "output_type": "stream",
     "text": [
      "1.14.0\n"
     ]
    },
    {
     "name": "stderr",
     "output_type": "stream",
     "text": [
      "Using TensorFlow backend.\n"
     ]
    }
   ],
   "source": [
    "import tensorflow as tf\n",
    "from tensorflow import keras\n",
    "import numpy as np\n",
    "import matplotlib.pyplot as plt\n",
    "from keras.models import Sequential\n",
    "from keras.layers import Dense\n",
    "from keras.layers import Dropout\n",
    "from keras.layers import Flatten\n",
    "from keras.layers import Activation\n",
    "from keras.layers.convolutional import Conv2D\n",
    "from keras.layers.convolutional import MaxPooling2D\n",
    "from keras.preprocessing.image import ImageDataGenerator\n",
    "from keras.preprocessing import image\n",
    "import pandas as pd\n",
    "import zipfile\n",
    "import re\n",
    "import os\n",
    "import pathlib\n",
    "print(tf.__version__)"
   ]
  },
  {
   "cell_type": "markdown",
   "metadata": {
    "colab_type": "text",
    "id": "6101JSzNqRd6"
   },
   "source": [
    "##Mount Drive where images are stored"
   ]
  },
  {
   "cell_type": "code",
   "execution_count": 0,
   "metadata": {
    "colab": {
     "base_uri": "https://localhost:8080/",
     "height": 124
    },
    "colab_type": "code",
    "id": "OdlqoxvkGPgC",
    "outputId": "aa2e37da-ab34-4ed9-8cb7-212ea181f201"
   },
   "outputs": [
    {
     "name": "stdout",
     "output_type": "stream",
     "text": [
      "Go to this URL in a browser: https://accounts.google.com/o/oauth2/auth?client_id=947318989803-6bn6qk8qdgf4n4g3pfee6491hc0brc4i.apps.googleusercontent.com&redirect_uri=urn%3Aietf%3Awg%3Aoauth%3A2.0%3Aoob&scope=email%20https%3A%2F%2Fwww.googleapis.com%2Fauth%2Fdocs.test%20https%3A%2F%2Fwww.googleapis.com%2Fauth%2Fdrive%20https%3A%2F%2Fwww.googleapis.com%2Fauth%2Fdrive.photos.readonly%20https%3A%2F%2Fwww.googleapis.com%2Fauth%2Fpeopleapi.readonly&response_type=code\n",
      "\n",
      "Enter your authorization code:\n",
      "··········\n",
      "Mounted at /content/drive\n"
     ]
    }
   ],
   "source": [
    "from google.colab import drive\n",
    "drive.mount('/content/drive')"
   ]
  },
  {
   "cell_type": "markdown",
   "metadata": {
    "colab_type": "text",
    "id": "0ZxkbMkn6rqr"
   },
   "source": [
    "##Import Dataset"
   ]
  },
  {
   "cell_type": "markdown",
   "metadata": {
    "colab_type": "text",
    "id": "Z1g1Ak3dqdld"
   },
   "source": [
    "#### Importing the training and validation image numbers from the input files"
   ]
  },
  {
   "cell_type": "code",
   "execution_count": 0,
   "metadata": {
    "colab": {},
    "colab_type": "code",
    "id": "isZJr6ideJTY"
   },
   "outputs": [],
   "source": [
    "training_array=[]\n",
    "validation_array=[]\n",
    "with open(\"tst1.txt\") as f:\n",
    "  for line in f:\n",
    "    training_array.append(line.strip())\n",
    "with open(\"trn1.txt\") as f:\n",
    "  for line in f:\n",
    "    validation_array.append(line.strip())"
   ]
  },
  {
   "cell_type": "markdown",
   "metadata": {
    "colab_type": "text",
    "id": "Yw_eBKAEqy7F"
   },
   "source": [
    "#### Create a dictionary with image_ids and their corresponding labels"
   ]
  },
  {
   "cell_type": "code",
   "execution_count": 4,
   "metadata": {
    "colab": {
     "base_uri": "https://localhost:8080/",
     "height": 55
    },
    "colab_type": "code",
    "id": "uAyCsF9e74CI",
    "outputId": "9776358c-de99-44cc-97c9-9007ce962a7e"
   },
   "outputs": [
    {
     "name": "stdout",
     "output_type": "stream",
     "text": [
      "{'JFT_00001.jpg': 1, 'JFT_00002.jpg': 1, 'JFT_00003.jpg': 1, 'JFT_00004.jpg': 1, 'JFT_00006.jpg': 1, 'JFT_00008.jpg': 1, 'JFT_00009.jpg': 1, 'JFT_00010.jpg': 1, 'JFT_00018.jpg': 2, 'JFT_00020.jpg': 2, 'JFT_00021.jpg': 2, 'JFT_00022.jpg': 2, 'JFT_00023.jpg': 2, 'JFT_00024.jpg': 2, 'JFT_00026.jpg': 2, 'JFT_00036.jpg': 2, 'JFT_00039.jpg': 2, 'JFT_00043.jpg': 2, 'JFT_00050.jpg': 2, 'JFT_00051.jpg': 2, 'JFT_00053.jpg': 2, 'JFT_00055.jpg': 2, 'JFT_00061.jpg': 2, 'JFT_00062.jpg': 2, 'JFT_00063.jpg': 2, 'JFT_00064.jpg': 2, 'JFT_00066.jpg': 2, 'JFT_00075.jpg': 2, 'JFT_00078.jpg': 3, 'JFT_00082.jpg': 3, 'JFT_00084.jpg': 3, 'JFT_00086.jpg': 3, 'JFT_00088.jpg': 3, 'JFT_00089.jpg': 3, 'JFT_00090.jpg': 3, 'JFT_00092.jpg': 3, 'JFT_00097.jpg': 3, 'JFT_00098.jpg': 3, 'JFT_00100.jpg': 3, 'JFT_00101.jpg': 3, 'JFT_00103.jpg': 3, 'JFT_00105.jpg': 3, 'JFT_00109.jpg': 3, 'JFT_00111.jpg': 3, 'JFT_00112.jpg': 3, 'JFT_00113.jpg': 3, 'JFT_00114.jpg': 3, 'JFT_00116.jpg': 3, 'JFT_00119.jpg': 4, 'JFT_00121.jpg': 4, 'JFT_00122.jpg': 4, 'JFT_00126.jpg': 4, 'JFT_00129.jpg': 4, 'JFT_00130.jpg': 4, 'JFT_00131.jpg': 4, 'JFT_00137.jpg': 4, 'JFT_00139.jpg': 4, 'JFT_00142.jpg': 4, 'JFT_00144.jpg': 4, 'JFT_00149.jpg': 4, 'JFT_00152.jpg': 4, 'JFT_00158.jpg': 4, 'JFT_00161.jpg': 4, 'JFT_00162.jpg': 4, 'JFT_00166.jpg': 4, 'JFT_00170.jpg': 4, 'JFT_00180.jpg': 4, 'JFT_00182.jpg': 4, 'JFT_00185.jpg': 5, 'JFT_00186.jpg': 5, 'JFT_00189.jpg': 5, 'JFT_00192.jpg': 5, 'JFT_00196.jpg': 5, 'JFT_00199.jpg': 5, 'JFT_00201.jpg': 5, 'JFT_00202.jpg': 5, 'JFT_00203.jpg': 5, 'JFT_00205.jpg': 5, 'JFT_00212.jpg': 5, 'JFT_00214.jpg': 5, 'JFT_00215.jpg': 5, 'JFT_00218.jpg': 5, 'JFT_00221.jpg': 5, 'JFT_00224.jpg': 5, 'JFT_00226.jpg': 5, 'JFT_00227.jpg': 5, 'JFT_00233.jpg': 5, 'JFT_00235.jpg': 5, 'JFT_00238.jpg': 6, 'JFT_00239.jpg': 6, 'JFT_00247.jpg': 6, 'JFT_00249.jpg': 6, 'JFT_00250.jpg': 6, 'JFT_00259.jpg': 6, 'JFT_00260.jpg': 6, 'JFT_00263.jpg': 6, 'JFT_00264.jpg': 6, 'JFT_00270.jpg': 6, 'JFT_00272.jpg': 6, 'JFT_00273.jpg': 6, 'JFT_00275.jpg': 6, 'JFT_00281.jpg': 6, 'JFT_00286.jpg': 6, 'JFT_00293.jpg': 6, 'JFT_00294.jpg': 6, 'JFT_00302.jpg': 6, 'JFT_00303.jpg': 6, 'JFT_00305.jpg': 6, 'JFT_00308.jpg': 7, 'JFT_00310.jpg': 7, 'JFT_00317.jpg': 7, 'JFT_00320.jpg': 7, 'JFT_00330.jpg': 7, 'JFT_00337.jpg': 7, 'JFT_00341.jpg': 7, 'JFT_00346.jpg': 7, 'JFT_00348.jpg': 7, 'JFT_00350.jpg': 7, 'JFT_00355.jpg': 7, 'JFT_00358.jpg': 7, 'JFT_00359.jpg': 7, 'JFT_00362.jpg': 7, 'JFT_00363.jpg': 7, 'JFT_00364.jpg': 7, 'JFT_00366.jpg': 7, 'JFT_00367.jpg': 7, 'JFT_00369.jpg': 7, 'JFT_00371.jpg': 7, 'JFT_00374.jpg': 8, 'JFT_00375.jpg': 8, 'JFT_00376.jpg': 8, 'JFT_00377.jpg': 8, 'JFT_00380.jpg': 8, 'JFT_00381.jpg': 8, 'JFT_00384.jpg': 8, 'JFT_00385.jpg': 8, 'JFT_00386.jpg': 8, 'JFT_00387.jpg': 8, 'JFT_00388.jpg': 8, 'JFT_00390.jpg': 8, 'JFT_00391.jpg': 8, 'JFT_00392.jpg': 8, 'JFT_00393.jpg': 8, 'JFT_00394.jpg': 8, 'JFT_00396.jpg': 8, 'JFT_00399.jpg': 8, 'JFT_00403.jpg': 9, 'JFT_00404.jpg': 9, 'JFT_00406.jpg': 9, 'JFT_00409.jpg': 9, 'JFT_00410.jpg': 9, 'JFT_00415.jpg': 9, 'JFT_00416.jpg': 9, 'JFT_00420.jpg': 9, 'JFT_00428.jpg': 9, 'JFT_00429.jpg': 9, 'JFT_00430.jpg': 9, 'JFT_00431.jpg': 9, 'JFT_00432.jpg': 9, 'JFT_00436.jpg': 9, 'JFT_00439.jpg': 9, 'JFT_00440.jpg': 9, 'JFT_00441.jpg': 9, 'JFT_00442.jpg': 9, 'JFT_00443.jpg': 9, 'JFT_00444.jpg': 9, 'JFT_00446.jpg': 10, 'JFT_00448.jpg': 10, 'JFT_00450.jpg': 10, 'JFT_00453.jpg': 10, 'JFT_00463.jpg': 10, 'JFT_00466.jpg': 10, 'JFT_00468.jpg': 10, 'JFT_00470.jpg': 10, 'JFT_00472.jpg': 10, 'JFT_00473.jpg': 10, 'JFT_00475.jpg': 10, 'JFT_00478.jpg': 10, 'JFT_00483.jpg': 10, 'JFT_00487.jpg': 10, 'JFT_00490.jpg': 10, 'JFT_00492.jpg': 10, 'JFT_00495.jpg': 10, 'JFT_00502.jpg': 10, 'JFT_00504.jpg': 10, 'JFT_00505.jpg': 10, 'JFT_00506.jpg': 11, 'JFT_00507.jpg': 11, 'JFT_00510.jpg': 11, 'JFT_00513.jpg': 11, 'JFT_00515.jpg': 11, 'JFT_00517.jpg': 11, 'JFT_00518.jpg': 11, 'JFT_00520.jpg': 11, 'JFT_00521.jpg': 11, 'JFT_00522.jpg': 11, 'JFT_00523.jpg': 11, 'JFT_00525.jpg': 11, 'JFT_00529.jpg': 11, 'JFT_00532.jpg': 11, 'JFT_00533.jpg': 11, 'JFT_00536.jpg': 11, 'JFT_00537.jpg': 11, 'JFT_00538.jpg': 11, 'JFT_00539.jpg': 11, 'JFT_00540.jpg': 11, 'JFT_00542.jpg': 12, 'JFT_00543.jpg': 12, 'JFT_00544.jpg': 12, 'JFT_00551.jpg': 12, 'JFT_00554.jpg': 12, 'JFT_00555.jpg': 12, 'JFT_00556.jpg': 12, 'JFT_00560.jpg': 12, 'JFT_00562.jpg': 12, 'JFT_00563.jpg': 12, 'JFT_00566.jpg': 12, 'JFT_00567.jpg': 12, 'JFT_00569.jpg': 12, 'JFT_00573.jpg': 12, 'JFT_00575.jpg': 12, 'JFT_00576.jpg': 12, 'JFT_00584.jpg': 12, 'JFT_00585.jpg': 12, 'JFT_00586.jpg': 12, 'JFT_00588.jpg': 12, 'JFT_00590.jpg': 13, 'JFT_00591.jpg': 13, 'JFT_00592.jpg': 13, 'JFT_00596.jpg': 13, 'JFT_00601.jpg': 13, 'JFT_00602.jpg': 13, 'JFT_00610.jpg': 13, 'JFT_00611.jpg': 13, 'JFT_00616.jpg': 13, 'JFT_00619.jpg': 13, 'JFT_00627.jpg': 13, 'JFT_00629.jpg': 13, 'JFT_00632.jpg': 13, 'JFT_00639.jpg': 13, 'JFT_00643.jpg': 13, 'JFT_00644.jpg': 13, 'JFT_00645.jpg': 13, 'JFT_00647.jpg': 13, 'JFT_00648.jpg': 13, 'JFT_00654.jpg': 13, 'JFT_00657.jpg': 14, 'JFT_00659.jpg': 14, 'JFT_00663.jpg': 14, 'JFT_00665.jpg': 14, 'JFT_00670.jpg': 14, 'JFT_00672.jpg': 14, 'JFT_00674.jpg': 14, 'JFT_00676.jpg': 14, 'JFT_00677.jpg': 14, 'JFT_00678.jpg': 14, 'JFT_00679.jpg': 14, 'JFT_00683.jpg': 14, 'JFT_00684.jpg': 14, 'JFT_00687.jpg': 14, 'JFT_00692.jpg': 14, 'JFT_00693.jpg': 14, 'JFT_00694.jpg': 14, 'JFT_00696.jpg': 14, 'JFT_00703.jpg': 14, 'JFT_00709.jpg': 14, 'JFT_00712.jpg': 15, 'JFT_00713.jpg': 15, 'JFT_00714.jpg': 15, 'JFT_00716.jpg': 15, 'JFT_00717.jpg': 15, 'JFT_00720.jpg': 15, 'JFT_00721.jpg': 15, 'JFT_00722.jpg': 15, 'JFT_00723.jpg': 16, 'JFT_00724.jpg': 16, 'JFT_00725.jpg': 16, 'JFT_00727.jpg': 16, 'JFT_00728.jpg': 16, 'JFT_00729.jpg': 16, 'JFT_00731.jpg': 16, 'JFT_00732.jpg': 16, 'JFT_00733.jpg': 16, 'JFT_00734.jpg': 16, 'JFT_00735.jpg': 16, 'JFT_00737.jpg': 16, 'JFT_00739.jpg': 16, 'JFT_00741.jpg': 16, 'JFT_00745.jpg': 16, 'JFT_00746.jpg': 16, 'JFT_00749.jpg': 17, 'JFT_00755.jpg': 17, 'JFT_00758.jpg': 17, 'JFT_00761.jpg': 17, 'JFT_00762.jpg': 17, 'JFT_00763.jpg': 17, 'JFT_00764.jpg': 17, 'JFT_00766.jpg': 17, 'JFT_00772.jpg': 17, 'JFT_00773.jpg': 17, 'JFT_00774.jpg': 17, 'JFT_00777.jpg': 17, 'JFT_00778.jpg': 17, 'JFT_00781.jpg': 17, 'JFT_00782.jpg': 17, 'JFT_00783.jpg': 17, 'JFT_00786.jpg': 17, 'JFT_00787.jpg': 17, 'JFT_00788.jpg': 17, 'JFT_00791.jpg': 17, 'JFT_00795.jpg': 18, 'JFT_00797.jpg': 18, 'JFT_00799.jpg': 18, 'JFT_00800.jpg': 18, 'JFT_00805.jpg': 18, 'JFT_00808.jpg': 18, 'JFT_00811.jpg': 18, 'JFT_00812.jpg': 18, 'JFT_00815.jpg': 18, 'JFT_00821.jpg': 18, 'JFT_00826.jpg': 18, 'JFT_00833.jpg': 18, 'JFT_00834.jpg': 18, 'JFT_00840.jpg': 18, 'JFT_00841.jpg': 18, 'JFT_00842.jpg': 18, 'JFT_00848.jpg': 18, 'JFT_00849.jpg': 18, 'JFT_00850.jpg': 18, 'JFT_00854.jpg': 18, 'JFT_00857.jpg': 19, 'JFT_00858.jpg': 19, 'JFT_00859.jpg': 19, 'JFT_00860.jpg': 19, 'JFT_00863.jpg': 19, 'JFT_00864.jpg': 19, 'JFT_00865.jpg': 19, 'JFT_00871.jpg': 19, 'JFT_00873.jpg': 19, 'JFT_00876.jpg': 19, 'JFT_00877.jpg': 19, 'JFT_00882.jpg': 19, 'JFT_00884.jpg': 19, 'JFT_00885.jpg': 19, 'JFT_00887.jpg': 19, 'JFT_00899.jpg': 19, 'JFT_00900.jpg': 19, 'JFT_00901.jpg': 19, 'JFT_00902.jpg': 19, 'JFT_00906.jpg': 19, 'JFT_00910.jpg': 20, 'JFT_00911.jpg': 20, 'JFT_00917.jpg': 20, 'JFT_00924.jpg': 20, 'JFT_00929.jpg': 20, 'JFT_00933.jpg': 20, 'JFT_00935.jpg': 20, 'JFT_00940.jpg': 20, 'JFT_00944.jpg': 20, 'JFT_00946.jpg': 20, 'JFT_00948.jpg': 20, 'JFT_00952.jpg': 20, 'JFT_00953.jpg': 20, 'JFT_00956.jpg': 20, 'JFT_00960.jpg': 20, 'JFT_00961.jpg': 20, 'JFT_00962.jpg': 20, 'JFT_00963.jpg': 20, 'JFT_00969.jpg': 20, 'JFT_00970.jpg': 20, 'JFT_00971.jpg': 21, 'JFT_00972.jpg': 21, 'JFT_00973.jpg': 21, 'JFT_00974.jpg': 21, 'JFT_00975.jpg': 21, 'JFT_00978.jpg': 21, 'JFT_00979.jpg': 21, 'JFT_00980.jpg': 21, 'JFT_00984.jpg': 21, 'JFT_00988.jpg': 21, 'JFT_00989.jpg': 21, 'JFT_00991.jpg': 21, 'JFT_00994.jpg': 21, 'JFT_00999.jpg': 21, 'JFT_01000.jpg': 21, 'JFT_01001.jpg': 21, 'JFT_01002.jpg': 21, 'JFT_01003.jpg': 21, 'JFT_01005.jpg': 21, 'JFT_01008.jpg': 21, 'JFT_01009.jpg': 22, 'JFT_01010.jpg': 22, 'JFT_01011.jpg': 22, 'JFT_01016.jpg': 22, 'JFT_01019.jpg': 22, 'JFT_01022.jpg': 22, 'JFT_01025.jpg': 22, 'JFT_01026.jpg': 22, 'JFT_01027.jpg': 22, 'JFT_01028.jpg': 22, 'JFT_01032.jpg': 22, 'JFT_01036.jpg': 22, 'JFT_01038.jpg': 22, 'JFT_01039.jpg': 22, 'JFT_01040.jpg': 22, 'JFT_01043.jpg': 22, 'JFT_01045.jpg': 22, 'JFT_01047.jpg': 22, 'JFT_01049.jpg': 22, 'JFT_01053.jpg': 22, 'JFT_01058.jpg': 23, 'JFT_01059.jpg': 23, 'JFT_01068.jpg': 23, 'JFT_01072.jpg': 23, 'JFT_01076.jpg': 23, 'JFT_01077.jpg': 23, 'JFT_01078.jpg': 23, 'JFT_01081.jpg': 23, 'JFT_01084.jpg': 23, 'JFT_01087.jpg': 23, 'JFT_01089.jpg': 23, 'JFT_01097.jpg': 23, 'JFT_01098.jpg': 23, 'JFT_01102.jpg': 23, 'JFT_01104.jpg': 23, 'JFT_01107.jpg': 23, 'JFT_01111.jpg': 23, 'JFT_01115.jpg': 23, 'JFT_01121.jpg': 23, 'JFT_01123.jpg': 23, 'JFT_01129.jpg': 24, 'JFT_01132.jpg': 24, 'JFT_01140.jpg': 24, 'JFT_01144.jpg': 24, 'JFT_01145.jpg': 24, 'JFT_01151.jpg': 24, 'JFT_01152.jpg': 24, 'JFT_01153.jpg': 24, 'JFT_01154.jpg': 24, 'JFT_01157.jpg': 24, 'JFT_01159.jpg': 24, 'JFT_01162.jpg': 24, 'JFT_01163.jpg': 24, 'JFT_01167.jpg': 24, 'JFT_01169.jpg': 24, 'JFT_01170.jpg': 24, 'JFT_01171.jpg': 24, 'JFT_01175.jpg': 24, 'JFT_01177.jpg': 24, 'JFT_01178.jpg': 24, 'JFT_01186.jpg': 25, 'JFT_01190.jpg': 25, 'JFT_01191.jpg': 25, 'JFT_01192.jpg': 25, 'JFT_01194.jpg': 25, 'JFT_01195.jpg': 25, 'JFT_01196.jpg': 25, 'JFT_01198.jpg': 25, 'JFT_01199.jpg': 25, 'JFT_01203.jpg': 25, 'JFT_01216.jpg': 25, 'JFT_01217.jpg': 25, 'JFT_01218.jpg': 25, 'JFT_01226.jpg': 25, 'JFT_01229.jpg': 25, 'JFT_01233.jpg': 25, 'JFT_01234.jpg': 25, 'JFT_01235.jpg': 25, 'JFT_01236.jpg': 25, 'JFT_01239.jpg': 25, 'JFT_01241.jpg': 26, 'JFT_01242.jpg': 26, 'JFT_01244.jpg': 26, 'JFT_01246.jpg': 26, 'JFT_01247.jpg': 26, 'JFT_01249.jpg': 26, 'JFT_01250.jpg': 26, 'JFT_01251.jpg': 26, 'JFT_01252.jpg': 26, 'JFT_01253.jpg': 26, 'JFT_01255.jpg': 26, 'JFT_01256.jpg': 26, 'JFT_01260.jpg': 26, 'JFT_01262.jpg': 26, 'JFT_01263.jpg': 26, 'JFT_01265.jpg': 26, 'JFT_01271.jpg': 26, 'JFT_01272.jpg': 26, 'JFT_01274.jpg': 26, 'JFT_01275.jpg': 26, 'JFT_01277.jpg': 27, 'JFT_01278.jpg': 27, 'JFT_01280.jpg': 27, 'JFT_01283.jpg': 27, 'JFT_01290.jpg': 27, 'JFT_01296.jpg': 27, 'JFT_01301.jpg': 27, 'JFT_01302.jpg': 27, 'JFT_01308.jpg': 27, 'JFT_01310.jpg': 27, 'JFT_01311.jpg': 27, 'JFT_01317.jpg': 27, 'JFT_01320.jpg': 27, 'JFT_01323.jpg': 27, 'JFT_01325.jpg': 27, 'JFT_01327.jpg': 27, 'JFT_01329.jpg': 27, 'JFT_01334.jpg': 27, 'JFT_01335.jpg': 27, 'JFT_01336.jpg': 27, 'JFT_01341.jpg': 28, 'JFT_01342.jpg': 28, 'JFT_01344.jpg': 28, 'JFT_01348.jpg': 28, 'JFT_01349.jpg': 28, 'JFT_01352.jpg': 28, 'JFT_01355.jpg': 28, 'JFT_01359.jpg': 28, 'JFT_01360.jpg': 28, 'JFT_01361.jpg': 28, 'JFT_01363.jpg': 28, 'JFT_01369.jpg': 28, 'JFT_01377.jpg': 28, 'JFT_01382.jpg': 28, 'JFT_01389.jpg': 28, 'JFT_01392.jpg': 28, 'JFT_01395.jpg': 28, 'JFT_01396.jpg': 28, 'JFT_01398.jpg': 28, 'JFT_01404.jpg': 28, 'JFT_01406.jpg': 29, 'JFT_01408.jpg': 29, 'JFT_01410.jpg': 29, 'JFT_01414.jpg': 29, 'JFT_01416.jpg': 29, 'JFT_01418.jpg': 29, 'JFT_01421.jpg': 29, 'JFT_01424.jpg': 29, 'JFT_01425.jpg': 29, 'JFT_01428.jpg': 29, 'JFT_01432.jpg': 29, 'JFT_01445.jpg': 29, 'JFT_01448.jpg': 29, 'JFT_01450.jpg': 29, 'JFT_01451.jpg': 29, 'JFT_01455.jpg': 29, 'JFT_01459.jpg': 29, 'JFT_01462.jpg': 29, 'JFT_01463.jpg': 29, 'JFT_01466.jpg': 29, 'JFT_01468.jpg': 30, 'JFT_01469.jpg': 30, 'JFT_01471.jpg': 30, 'JFT_01473.jpg': 30, 'JFT_01474.jpg': 30, 'JFT_01475.jpg': 30, 'JFT_01478.jpg': 30, 'JFT_01479.jpg': 30, 'JFT_00005.jpg': 1, 'JFT_00007.jpg': 1, 'JFT_00011.jpg': 1, 'JFT_00012.jpg': 2, 'JFT_00013.jpg': 2, 'JFT_00014.jpg': 2, 'JFT_00015.jpg': 2, 'JFT_00016.jpg': 2, 'JFT_00017.jpg': 2, 'JFT_00019.jpg': 2, 'JFT_00025.jpg': 2, 'JFT_00027.jpg': 2, 'JFT_00028.jpg': 2, 'JFT_00029.jpg': 2, 'JFT_00030.jpg': 2, 'JFT_00031.jpg': 2, 'JFT_00032.jpg': 2, 'JFT_00033.jpg': 2, 'JFT_00034.jpg': 2, 'JFT_00035.jpg': 2, 'JFT_00037.jpg': 2, 'JFT_00038.jpg': 2, 'JFT_00040.jpg': 2, 'JFT_00041.jpg': 2, 'JFT_00042.jpg': 2, 'JFT_00044.jpg': 2, 'JFT_00045.jpg': 2, 'JFT_00046.jpg': 2, 'JFT_00047.jpg': 2, 'JFT_00048.jpg': 2, 'JFT_00049.jpg': 2, 'JFT_00052.jpg': 2, 'JFT_00054.jpg': 2, 'JFT_00056.jpg': 2, 'JFT_00057.jpg': 2, 'JFT_00058.jpg': 2, 'JFT_00059.jpg': 2, 'JFT_00060.jpg': 2, 'JFT_00065.jpg': 2, 'JFT_00067.jpg': 2, 'JFT_00068.jpg': 2, 'JFT_00069.jpg': 2, 'JFT_00070.jpg': 2, 'JFT_00071.jpg': 2, 'JFT_00072.jpg': 2, 'JFT_00073.jpg': 2, 'JFT_00074.jpg': 2, 'JFT_00076.jpg': 2, 'JFT_00077.jpg': 3, 'JFT_00079.jpg': 3, 'JFT_00080.jpg': 3, 'JFT_00081.jpg': 3, 'JFT_00083.jpg': 3, 'JFT_00085.jpg': 3, 'JFT_00087.jpg': 3, 'JFT_00091.jpg': 3, 'JFT_00093.jpg': 3, 'JFT_00094.jpg': 3, 'JFT_00095.jpg': 3, 'JFT_00096.jpg': 3, 'JFT_00099.jpg': 3, 'JFT_00102.jpg': 3, 'JFT_00104.jpg': 3, 'JFT_00106.jpg': 3, 'JFT_00107.jpg': 3, 'JFT_00108.jpg': 3, 'JFT_00110.jpg': 3, 'JFT_00115.jpg': 3, 'JFT_00117.jpg': 3, 'JFT_00118.jpg': 4, 'JFT_00120.jpg': 4, 'JFT_00123.jpg': 4, 'JFT_00124.jpg': 4, 'JFT_00125.jpg': 4, 'JFT_00127.jpg': 4, 'JFT_00128.jpg': 4, 'JFT_00132.jpg': 4, 'JFT_00133.jpg': 4, 'JFT_00134.jpg': 4, 'JFT_00135.jpg': 4, 'JFT_00136.jpg': 4, 'JFT_00138.jpg': 4, 'JFT_00140.jpg': 4, 'JFT_00141.jpg': 4, 'JFT_00143.jpg': 4, 'JFT_00145.jpg': 4, 'JFT_00146.jpg': 4, 'JFT_00147.jpg': 4, 'JFT_00148.jpg': 4, 'JFT_00150.jpg': 4, 'JFT_00151.jpg': 4, 'JFT_00153.jpg': 4, 'JFT_00154.jpg': 4, 'JFT_00155.jpg': 4, 'JFT_00156.jpg': 4, 'JFT_00157.jpg': 4, 'JFT_00159.jpg': 4, 'JFT_00160.jpg': 4, 'JFT_00163.jpg': 4, 'JFT_00164.jpg': 4, 'JFT_00165.jpg': 4, 'JFT_00167.jpg': 4, 'JFT_00168.jpg': 4, 'JFT_00169.jpg': 4, 'JFT_00171.jpg': 4, 'JFT_00172.jpg': 4, 'JFT_00173.jpg': 4, 'JFT_00174.jpg': 4, 'JFT_00175.jpg': 4, 'JFT_00176.jpg': 4, 'JFT_00177.jpg': 4, 'JFT_00178.jpg': 4, 'JFT_00179.jpg': 4, 'JFT_00181.jpg': 4, 'JFT_00183.jpg': 4, 'JFT_00184.jpg': 5, 'JFT_00187.jpg': 5, 'JFT_00188.jpg': 5, 'JFT_00190.jpg': 5, 'JFT_00191.jpg': 5, 'JFT_00193.jpg': 5, 'JFT_00194.jpg': 5, 'JFT_00195.jpg': 5, 'JFT_00197.jpg': 5, 'JFT_00198.jpg': 5, 'JFT_00200.jpg': 5, 'JFT_00204.jpg': 5, 'JFT_00206.jpg': 5, 'JFT_00207.jpg': 5, 'JFT_00208.jpg': 5, 'JFT_00209.jpg': 5, 'JFT_00210.jpg': 5, 'JFT_00211.jpg': 5, 'JFT_00213.jpg': 5, 'JFT_00216.jpg': 5, 'JFT_00217.jpg': 5, 'JFT_00219.jpg': 5, 'JFT_00220.jpg': 5, 'JFT_00222.jpg': 5, 'JFT_00223.jpg': 5, 'JFT_00225.jpg': 5, 'JFT_00228.jpg': 5, 'JFT_00229.jpg': 5, 'JFT_00230.jpg': 5, 'JFT_00231.jpg': 5, 'JFT_00232.jpg': 5, 'JFT_00234.jpg': 5, 'JFT_00236.jpg': 5, 'JFT_00237.jpg': 5, 'JFT_00240.jpg': 6, 'JFT_00241.jpg': 6, 'JFT_00242.jpg': 6, 'JFT_00243.jpg': 6, 'JFT_00244.jpg': 6, 'JFT_00245.jpg': 6, 'JFT_00246.jpg': 6, 'JFT_00248.jpg': 6, 'JFT_00251.jpg': 6, 'JFT_00252.jpg': 6, 'JFT_00253.jpg': 6, 'JFT_00254.jpg': 6, 'JFT_00255.jpg': 6, 'JFT_00256.jpg': 6, 'JFT_00257.jpg': 6, 'JFT_00258.jpg': 6, 'JFT_00261.jpg': 6, 'JFT_00262.jpg': 6, 'JFT_00265.jpg': 6, 'JFT_00266.jpg': 6, 'JFT_00267.jpg': 6, 'JFT_00268.jpg': 6, 'JFT_00269.jpg': 6, 'JFT_00271.jpg': 6, 'JFT_00274.jpg': 6, 'JFT_00276.jpg': 6, 'JFT_00277.jpg': 6, 'JFT_00278.jpg': 6, 'JFT_00279.jpg': 6, 'JFT_00280.jpg': 6, 'JFT_00282.jpg': 6, 'JFT_00283.jpg': 6, 'JFT_00284.jpg': 6, 'JFT_00285.jpg': 6, 'JFT_00287.jpg': 6, 'JFT_00288.jpg': 6, 'JFT_00289.jpg': 6, 'JFT_00290.jpg': 6, 'JFT_00291.jpg': 6, 'JFT_00292.jpg': 6, 'JFT_00295.jpg': 6, 'JFT_00296.jpg': 6, 'JFT_00297.jpg': 6, 'JFT_00298.jpg': 6, 'JFT_00299.jpg': 6, 'JFT_00300.jpg': 6, 'JFT_00301.jpg': 6, 'JFT_00304.jpg': 6, 'JFT_00306.jpg': 6, 'JFT_00307.jpg': 6, 'JFT_00309.jpg': 7, 'JFT_00311.jpg': 7, 'JFT_00312.jpg': 7, 'JFT_00313.jpg': 7, 'JFT_00314.jpg': 7, 'JFT_00315.jpg': 7, 'JFT_00316.jpg': 7, 'JFT_00318.jpg': 7, 'JFT_00319.jpg': 7, 'JFT_00321.jpg': 7, 'JFT_00322.jpg': 7, 'JFT_00323.jpg': 7, 'JFT_00324.jpg': 7, 'JFT_00325.jpg': 7, 'JFT_00326.jpg': 7, 'JFT_00327.jpg': 7, 'JFT_00328.jpg': 7, 'JFT_00329.jpg': 7, 'JFT_00331.jpg': 7, 'JFT_00332.jpg': 7, 'JFT_00333.jpg': 7, 'JFT_00334.jpg': 7, 'JFT_00335.jpg': 7, 'JFT_00336.jpg': 7, 'JFT_00338.jpg': 7, 'JFT_00339.jpg': 7, 'JFT_00340.jpg': 7, 'JFT_00342.jpg': 7, 'JFT_00343.jpg': 7, 'JFT_00344.jpg': 7, 'JFT_00345.jpg': 7, 'JFT_00347.jpg': 7, 'JFT_00349.jpg': 7, 'JFT_00351.jpg': 7, 'JFT_00352.jpg': 7, 'JFT_00353.jpg': 7, 'JFT_00354.jpg': 7, 'JFT_00356.jpg': 7, 'JFT_00357.jpg': 7, 'JFT_00360.jpg': 7, 'JFT_00361.jpg': 7, 'JFT_00365.jpg': 7, 'JFT_00368.jpg': 7, 'JFT_00370.jpg': 7, 'JFT_00372.jpg': 8, 'JFT_00373.jpg': 8, 'JFT_00378.jpg': 8, 'JFT_00379.jpg': 8, 'JFT_00382.jpg': 8, 'JFT_00383.jpg': 8, 'JFT_00389.jpg': 8, 'JFT_00395.jpg': 8, 'JFT_00397.jpg': 8, 'JFT_00398.jpg': 8, 'JFT_00400.jpg': 9, 'JFT_00401.jpg': 9, 'JFT_00402.jpg': 9, 'JFT_00405.jpg': 9, 'JFT_00407.jpg': 9, 'JFT_00408.jpg': 9, 'JFT_00411.jpg': 9, 'JFT_00412.jpg': 9, 'JFT_00413.jpg': 9, 'JFT_00414.jpg': 9, 'JFT_00417.jpg': 9, 'JFT_00418.jpg': 9, 'JFT_00419.jpg': 9, 'JFT_00421.jpg': 9, 'JFT_00422.jpg': 9, 'JFT_00423.jpg': 9, 'JFT_00424.jpg': 9, 'JFT_00425.jpg': 9, 'JFT_00426.jpg': 9, 'JFT_00427.jpg': 9, 'JFT_00433.jpg': 9, 'JFT_00434.jpg': 9, 'JFT_00435.jpg': 9, 'JFT_00437.jpg': 9, 'JFT_00438.jpg': 9, 'JFT_00445.jpg': 9, 'JFT_00447.jpg': 10, 'JFT_00449.jpg': 10, 'JFT_00451.jpg': 10, 'JFT_00452.jpg': 10, 'JFT_00454.jpg': 10, 'JFT_00455.jpg': 10, 'JFT_00456.jpg': 10, 'JFT_00457.jpg': 10, 'JFT_00458.jpg': 10, 'JFT_00459.jpg': 10, 'JFT_00460.jpg': 10, 'JFT_00461.jpg': 10, 'JFT_00462.jpg': 10, 'JFT_00464.jpg': 10, 'JFT_00465.jpg': 10, 'JFT_00467.jpg': 10, 'JFT_00469.jpg': 10, 'JFT_00471.jpg': 10, 'JFT_00474.jpg': 10, 'JFT_00476.jpg': 10, 'JFT_00477.jpg': 10, 'JFT_00479.jpg': 10, 'JFT_00480.jpg': 10, 'JFT_00481.jpg': 10, 'JFT_00482.jpg': 10, 'JFT_00484.jpg': 10, 'JFT_00485.jpg': 10, 'JFT_00486.jpg': 10, 'JFT_00488.jpg': 10, 'JFT_00489.jpg': 10, 'JFT_00491.jpg': 10, 'JFT_00493.jpg': 10, 'JFT_00494.jpg': 10, 'JFT_00496.jpg': 10, 'JFT_00497.jpg': 10, 'JFT_00498.jpg': 10, 'JFT_00499.jpg': 10, 'JFT_00500.jpg': 10, 'JFT_00501.jpg': 10, 'JFT_00503.jpg': 10, 'JFT_00508.jpg': 11, 'JFT_00509.jpg': 11, 'JFT_00511.jpg': 11, 'JFT_00512.jpg': 11, 'JFT_00514.jpg': 11, 'JFT_00516.jpg': 11, 'JFT_00519.jpg': 11, 'JFT_00524.jpg': 11, 'JFT_00526.jpg': 11, 'JFT_00527.jpg': 11, 'JFT_00528.jpg': 11, 'JFT_00530.jpg': 11, 'JFT_00531.jpg': 11, 'JFT_00534.jpg': 11, 'JFT_00535.jpg': 11, 'JFT_00541.jpg': 11, 'JFT_00545.jpg': 12, 'JFT_00546.jpg': 12, 'JFT_00547.jpg': 12, 'JFT_00548.jpg': 12, 'JFT_00549.jpg': 12, 'JFT_00550.jpg': 12, 'JFT_00552.jpg': 12, 'JFT_00553.jpg': 12, 'JFT_00557.jpg': 12, 'JFT_00558.jpg': 12, 'JFT_00559.jpg': 12, 'JFT_00561.jpg': 12, 'JFT_00564.jpg': 12, 'JFT_00565.jpg': 12, 'JFT_00568.jpg': 12, 'JFT_00570.jpg': 12, 'JFT_00571.jpg': 12, 'JFT_00572.jpg': 12, 'JFT_00574.jpg': 12, 'JFT_00577.jpg': 12, 'JFT_00578.jpg': 12, 'JFT_00579.jpg': 12, 'JFT_00580.jpg': 12, 'JFT_00581.jpg': 12, 'JFT_00582.jpg': 12, 'JFT_00583.jpg': 12, 'JFT_00587.jpg': 12, 'JFT_00589.jpg': 12, 'JFT_00593.jpg': 13, 'JFT_00594.jpg': 13, 'JFT_00595.jpg': 13, 'JFT_00597.jpg': 13, 'JFT_00598.jpg': 13, 'JFT_00599.jpg': 13, 'JFT_00600.jpg': 13, 'JFT_00603.jpg': 13, 'JFT_00604.jpg': 13, 'JFT_00605.jpg': 13, 'JFT_00606.jpg': 13, 'JFT_00607.jpg': 13, 'JFT_00608.jpg': 13, 'JFT_00609.jpg': 13, 'JFT_00612.jpg': 13, 'JFT_00613.jpg': 13, 'JFT_00614.jpg': 13, 'JFT_00615.jpg': 13, 'JFT_00617.jpg': 13, 'JFT_00618.jpg': 13, 'JFT_00620.jpg': 13, 'JFT_00621.jpg': 13, 'JFT_00622.jpg': 13, 'JFT_00623.jpg': 13, 'JFT_00624.jpg': 13, 'JFT_00625.jpg': 13, 'JFT_00626.jpg': 13, 'JFT_00628.jpg': 13, 'JFT_00630.jpg': 13, 'JFT_00631.jpg': 13, 'JFT_00633.jpg': 13, 'JFT_00634.jpg': 13, 'JFT_00635.jpg': 13, 'JFT_00636.jpg': 13, 'JFT_00637.jpg': 13, 'JFT_00638.jpg': 13, 'JFT_00640.jpg': 13, 'JFT_00641.jpg': 13, 'JFT_00642.jpg': 13, 'JFT_00646.jpg': 13, 'JFT_00649.jpg': 13, 'JFT_00650.jpg': 13, 'JFT_00651.jpg': 13, 'JFT_00652.jpg': 13, 'JFT_00653.jpg': 13, 'JFT_00655.jpg': 13, 'JFT_00656.jpg': 14, 'JFT_00658.jpg': 14, 'JFT_00660.jpg': 14, 'JFT_00661.jpg': 14, 'JFT_00662.jpg': 14, 'JFT_00664.jpg': 14, 'JFT_00666.jpg': 14, 'JFT_00667.jpg': 14, 'JFT_00668.jpg': 14, 'JFT_00669.jpg': 14, 'JFT_00671.jpg': 14, 'JFT_00673.jpg': 14, 'JFT_00675.jpg': 14, 'JFT_00680.jpg': 14, 'JFT_00681.jpg': 14, 'JFT_00682.jpg': 14, 'JFT_00685.jpg': 14, 'JFT_00686.jpg': 14, 'JFT_00688.jpg': 14, 'JFT_00689.jpg': 14, 'JFT_00690.jpg': 14, 'JFT_00691.jpg': 14, 'JFT_00695.jpg': 14, 'JFT_00697.jpg': 14, 'JFT_00698.jpg': 14, 'JFT_00699.jpg': 14, 'JFT_00700.jpg': 14, 'JFT_00701.jpg': 14, 'JFT_00702.jpg': 14, 'JFT_00704.jpg': 14, 'JFT_00705.jpg': 14, 'JFT_00706.jpg': 14, 'JFT_00707.jpg': 14, 'JFT_00708.jpg': 14, 'JFT_00710.jpg': 15, 'JFT_00711.jpg': 15, 'JFT_00715.jpg': 15, 'JFT_00718.jpg': 15, 'JFT_00719.jpg': 15, 'JFT_00726.jpg': 16, 'JFT_00730.jpg': 16, 'JFT_00736.jpg': 16, 'JFT_00738.jpg': 16, 'JFT_00740.jpg': 16, 'JFT_00742.jpg': 16, 'JFT_00743.jpg': 16, 'JFT_00744.jpg': 16, 'JFT_00747.jpg': 17, 'JFT_00748.jpg': 17, 'JFT_00750.jpg': 17, 'JFT_00751.jpg': 17, 'JFT_00752.jpg': 17, 'JFT_00753.jpg': 17, 'JFT_00754.jpg': 17, 'JFT_00756.jpg': 17, 'JFT_00757.jpg': 17, 'JFT_00759.jpg': 17, 'JFT_00760.jpg': 17, 'JFT_00765.jpg': 17, 'JFT_00767.jpg': 17, 'JFT_00768.jpg': 17, 'JFT_00769.jpg': 17, 'JFT_00770.jpg': 17, 'JFT_00771.jpg': 17, 'JFT_00775.jpg': 17, 'JFT_00776.jpg': 17, 'JFT_00779.jpg': 17, 'JFT_00780.jpg': 17, 'JFT_00784.jpg': 17, 'JFT_00785.jpg': 17, 'JFT_00789.jpg': 17, 'JFT_00790.jpg': 17, 'JFT_00792.jpg': 18, 'JFT_00793.jpg': 18, 'JFT_00794.jpg': 18, 'JFT_00796.jpg': 18, 'JFT_00798.jpg': 18, 'JFT_00801.jpg': 18, 'JFT_00802.jpg': 18, 'JFT_00803.jpg': 18, 'JFT_00804.jpg': 18, 'JFT_00806.jpg': 18, 'JFT_00807.jpg': 18, 'JFT_00809.jpg': 18, 'JFT_00810.jpg': 18, 'JFT_00813.jpg': 18, 'JFT_00814.jpg': 18, 'JFT_00816.jpg': 18, 'JFT_00817.jpg': 18, 'JFT_00818.jpg': 18, 'JFT_00819.jpg': 18, 'JFT_00820.jpg': 18, 'JFT_00822.jpg': 18, 'JFT_00823.jpg': 18, 'JFT_00824.jpg': 18, 'JFT_00825.jpg': 18, 'JFT_00827.jpg': 18, 'JFT_00828.jpg': 18, 'JFT_00829.jpg': 18, 'JFT_00830.jpg': 18, 'JFT_00831.jpg': 18, 'JFT_00832.jpg': 18, 'JFT_00835.jpg': 18, 'JFT_00836.jpg': 18, 'JFT_00837.jpg': 18, 'JFT_00838.jpg': 18, 'JFT_00839.jpg': 18, 'JFT_00843.jpg': 18, 'JFT_00844.jpg': 18, 'JFT_00845.jpg': 18, 'JFT_00846.jpg': 18, 'JFT_00847.jpg': 18, 'JFT_00851.jpg': 18, 'JFT_00852.jpg': 18, 'JFT_00853.jpg': 18, 'JFT_00855.jpg': 19, 'JFT_00856.jpg': 19, 'JFT_00861.jpg': 19, 'JFT_00862.jpg': 19, 'JFT_00866.jpg': 19, 'JFT_00867.jpg': 19, 'JFT_00868.jpg': 19, 'JFT_00869.jpg': 19, 'JFT_00870.jpg': 19, 'JFT_00872.jpg': 19, 'JFT_00874.jpg': 19, 'JFT_00875.jpg': 19, 'JFT_00878.jpg': 19, 'JFT_00879.jpg': 19, 'JFT_00880.jpg': 19, 'JFT_00881.jpg': 19, 'JFT_00883.jpg': 19, 'JFT_00886.jpg': 19, 'JFT_00888.jpg': 19, 'JFT_00889.jpg': 19, 'JFT_00890.jpg': 19, 'JFT_00891.jpg': 19, 'JFT_00892.jpg': 19, 'JFT_00893.jpg': 19, 'JFT_00894.jpg': 19, 'JFT_00895.jpg': 19, 'JFT_00896.jpg': 19, 'JFT_00897.jpg': 19, 'JFT_00898.jpg': 19, 'JFT_00903.jpg': 19, 'JFT_00904.jpg': 19, 'JFT_00905.jpg': 19, 'JFT_00907.jpg': 19, 'JFT_00908.jpg': 19, 'JFT_00909.jpg': 19, 'JFT_00912.jpg': 20, 'JFT_00913.jpg': 20, 'JFT_00914.jpg': 20, 'JFT_00915.jpg': 20, 'JFT_00916.jpg': 20, 'JFT_00918.jpg': 20, 'JFT_00919.jpg': 20, 'JFT_00920.jpg': 20, 'JFT_00921.jpg': 20, 'JFT_00922.jpg': 20, 'JFT_00923.jpg': 20, 'JFT_00925.jpg': 20, 'JFT_00926.jpg': 20, 'JFT_00927.jpg': 20, 'JFT_00928.jpg': 20, 'JFT_00930.jpg': 20, 'JFT_00931.jpg': 20, 'JFT_00932.jpg': 20, 'JFT_00934.jpg': 20, 'JFT_00936.jpg': 20, 'JFT_00937.jpg': 20, 'JFT_00938.jpg': 20, 'JFT_00939.jpg': 20, 'JFT_00941.jpg': 20, 'JFT_00942.jpg': 20, 'JFT_00943.jpg': 20, 'JFT_00945.jpg': 20, 'JFT_00947.jpg': 20, 'JFT_00949.jpg': 20, 'JFT_00950.jpg': 20, 'JFT_00951.jpg': 20, 'JFT_00954.jpg': 20, 'JFT_00955.jpg': 20, 'JFT_00957.jpg': 20, 'JFT_00958.jpg': 20, 'JFT_00959.jpg': 20, 'JFT_00964.jpg': 20, 'JFT_00965.jpg': 20, 'JFT_00966.jpg': 20, 'JFT_00967.jpg': 20, 'JFT_00968.jpg': 20, 'JFT_00976.jpg': 21, 'JFT_00977.jpg': 21, 'JFT_00981.jpg': 21, 'JFT_00982.jpg': 21, 'JFT_00983.jpg': 21, 'JFT_00985.jpg': 21, 'JFT_00986.jpg': 21, 'JFT_00987.jpg': 21, 'JFT_00990.jpg': 21, 'JFT_00992.jpg': 21, 'JFT_00993.jpg': 21, 'JFT_00995.jpg': 21, 'JFT_00996.jpg': 21, 'JFT_00997.jpg': 21, 'JFT_00998.jpg': 21, 'JFT_01004.jpg': 21, 'JFT_01006.jpg': 21, 'JFT_01007.jpg': 21, 'JFT_01012.jpg': 22, 'JFT_01013.jpg': 22, 'JFT_01014.jpg': 22, 'JFT_01015.jpg': 22, 'JFT_01017.jpg': 22, 'JFT_01018.jpg': 22, 'JFT_01020.jpg': 22, 'JFT_01021.jpg': 22, 'JFT_01023.jpg': 22, 'JFT_01024.jpg': 22, 'JFT_01029.jpg': 22, 'JFT_01030.jpg': 22, 'JFT_01031.jpg': 22, 'JFT_01033.jpg': 22, 'JFT_01034.jpg': 22, 'JFT_01035.jpg': 22, 'JFT_01037.jpg': 22, 'JFT_01041.jpg': 22, 'JFT_01042.jpg': 22, 'JFT_01044.jpg': 22, 'JFT_01046.jpg': 22, 'JFT_01048.jpg': 22, 'JFT_01050.jpg': 22, 'JFT_01051.jpg': 22, 'JFT_01052.jpg': 22, 'JFT_01054.jpg': 22, 'JFT_01055.jpg': 22, 'JFT_01056.jpg': 22, 'JFT_01057.jpg': 22, 'JFT_01060.jpg': 23, 'JFT_01061.jpg': 23, 'JFT_01062.jpg': 23, 'JFT_01063.jpg': 23, 'JFT_01064.jpg': 23, 'JFT_01065.jpg': 23, 'JFT_01066.jpg': 23, 'JFT_01067.jpg': 23, 'JFT_01069.jpg': 23, 'JFT_01070.jpg': 23, 'JFT_01071.jpg': 23, 'JFT_01073.jpg': 23, 'JFT_01074.jpg': 23, 'JFT_01075.jpg': 23, 'JFT_01079.jpg': 23, 'JFT_01080.jpg': 23, 'JFT_01082.jpg': 23, 'JFT_01083.jpg': 23, 'JFT_01085.jpg': 23, 'JFT_01086.jpg': 23, 'JFT_01088.jpg': 23, 'JFT_01090.jpg': 23, 'JFT_01091.jpg': 23, 'JFT_01092.jpg': 23, 'JFT_01093.jpg': 23, 'JFT_01094.jpg': 23, 'JFT_01095.jpg': 23, 'JFT_01096.jpg': 23, 'JFT_01099.jpg': 23, 'JFT_01100.jpg': 23, 'JFT_01101.jpg': 23, 'JFT_01103.jpg': 23, 'JFT_01105.jpg': 23, 'JFT_01106.jpg': 23, 'JFT_01108.jpg': 23, 'JFT_01109.jpg': 23, 'JFT_01110.jpg': 23, 'JFT_01112.jpg': 23, 'JFT_01113.jpg': 23, 'JFT_01114.jpg': 23, 'JFT_01116.jpg': 23, 'JFT_01117.jpg': 23, 'JFT_01118.jpg': 23, 'JFT_01119.jpg': 23, 'JFT_01120.jpg': 23, 'JFT_01122.jpg': 23, 'JFT_01124.jpg': 23, 'JFT_01125.jpg': 24, 'JFT_01126.jpg': 24, 'JFT_01127.jpg': 24, 'JFT_01128.jpg': 24, 'JFT_01130.jpg': 24, 'JFT_01131.jpg': 24, 'JFT_01133.jpg': 24, 'JFT_01134.jpg': 24, 'JFT_01135.jpg': 24, 'JFT_01136.jpg': 24, 'JFT_01137.jpg': 24, 'JFT_01138.jpg': 24, 'JFT_01139.jpg': 24, 'JFT_01141.jpg': 24, 'JFT_01142.jpg': 24, 'JFT_01143.jpg': 24, 'JFT_01146.jpg': 24, 'JFT_01147.jpg': 24, 'JFT_01148.jpg': 24, 'JFT_01149.jpg': 24, 'JFT_01150.jpg': 24, 'JFT_01155.jpg': 24, 'JFT_01156.jpg': 24, 'JFT_01158.jpg': 24, 'JFT_01160.jpg': 24, 'JFT_01161.jpg': 24, 'JFT_01164.jpg': 24, 'JFT_01165.jpg': 24, 'JFT_01166.jpg': 24, 'JFT_01168.jpg': 24, 'JFT_01172.jpg': 24, 'JFT_01173.jpg': 24, 'JFT_01174.jpg': 24, 'JFT_01176.jpg': 24, 'JFT_01179.jpg': 24, 'JFT_01180.jpg': 24, 'JFT_01181.jpg': 24, 'JFT_01182.jpg': 24, 'JFT_01183.jpg': 24, 'JFT_01184.jpg': 24, 'JFT_01185.jpg': 25, 'JFT_01187.jpg': 25, 'JFT_01188.jpg': 25, 'JFT_01189.jpg': 25, 'JFT_01193.jpg': 25, 'JFT_01197.jpg': 25, 'JFT_01200.jpg': 25, 'JFT_01201.jpg': 25, 'JFT_01202.jpg': 25, 'JFT_01204.jpg': 25, 'JFT_01205.jpg': 25, 'JFT_01206.jpg': 25, 'JFT_01207.jpg': 25, 'JFT_01208.jpg': 25, 'JFT_01209.jpg': 25, 'JFT_01210.jpg': 25, 'JFT_01211.jpg': 25, 'JFT_01212.jpg': 25, 'JFT_01213.jpg': 25, 'JFT_01214.jpg': 25, 'JFT_01215.jpg': 25, 'JFT_01219.jpg': 25, 'JFT_01220.jpg': 25, 'JFT_01221.jpg': 25, 'JFT_01222.jpg': 25, 'JFT_01223.jpg': 25, 'JFT_01224.jpg': 25, 'JFT_01225.jpg': 25, 'JFT_01227.jpg': 25, 'JFT_01228.jpg': 25, 'JFT_01230.jpg': 25, 'JFT_01231.jpg': 25, 'JFT_01232.jpg': 25, 'JFT_01237.jpg': 25, 'JFT_01238.jpg': 25, 'JFT_01240.jpg': 25, 'JFT_01243.jpg': 26, 'JFT_01245.jpg': 26, 'JFT_01248.jpg': 26, 'JFT_01254.jpg': 26, 'JFT_01257.jpg': 26, 'JFT_01258.jpg': 26, 'JFT_01259.jpg': 26, 'JFT_01261.jpg': 26, 'JFT_01264.jpg': 26, 'JFT_01266.jpg': 26, 'JFT_01267.jpg': 26, 'JFT_01268.jpg': 26, 'JFT_01269.jpg': 26, 'JFT_01270.jpg': 26, 'JFT_01273.jpg': 26, 'JFT_01276.jpg': 27, 'JFT_01279.jpg': 27, 'JFT_01281.jpg': 27, 'JFT_01282.jpg': 27, 'JFT_01284.jpg': 27, 'JFT_01285.jpg': 27, 'JFT_01286.jpg': 27, 'JFT_01287.jpg': 27, 'JFT_01288.jpg': 27, 'JFT_01289.jpg': 27, 'JFT_01291.jpg': 27, 'JFT_01292.jpg': 27, 'JFT_01293.jpg': 27, 'JFT_01294.jpg': 27, 'JFT_01295.jpg': 27, 'JFT_01297.jpg': 27, 'JFT_01298.jpg': 27, 'JFT_01299.jpg': 27, 'JFT_01300.jpg': 27, 'JFT_01303.jpg': 27, 'JFT_01304.jpg': 27, 'JFT_01305.jpg': 27, 'JFT_01306.jpg': 27, 'JFT_01307.jpg': 27, 'JFT_01309.jpg': 27, 'JFT_01312.jpg': 27, 'JFT_01313.jpg': 27, 'JFT_01314.jpg': 27, 'JFT_01315.jpg': 27, 'JFT_01316.jpg': 27, 'JFT_01318.jpg': 27, 'JFT_01319.jpg': 27, 'JFT_01321.jpg': 27, 'JFT_01322.jpg': 27, 'JFT_01324.jpg': 27, 'JFT_01326.jpg': 27, 'JFT_01328.jpg': 27, 'JFT_01330.jpg': 27, 'JFT_01331.jpg': 27, 'JFT_01332.jpg': 27, 'JFT_01333.jpg': 27, 'JFT_01337.jpg': 28, 'JFT_01338.jpg': 28, 'JFT_01339.jpg': 28, 'JFT_01340.jpg': 28, 'JFT_01343.jpg': 28, 'JFT_01345.jpg': 28, 'JFT_01346.jpg': 28, 'JFT_01347.jpg': 28, 'JFT_01350.jpg': 28, 'JFT_01351.jpg': 28, 'JFT_01353.jpg': 28, 'JFT_01354.jpg': 28, 'JFT_01356.jpg': 28, 'JFT_01357.jpg': 28, 'JFT_01358.jpg': 28, 'JFT_01362.jpg': 28, 'JFT_01364.jpg': 28, 'JFT_01365.jpg': 28, 'JFT_01366.jpg': 28, 'JFT_01367.jpg': 28, 'JFT_01368.jpg': 28, 'JFT_01370.jpg': 28, 'JFT_01371.jpg': 28, 'JFT_01372.jpg': 28, 'JFT_01373.jpg': 28, 'JFT_01374.jpg': 28, 'JFT_01375.jpg': 28, 'JFT_01376.jpg': 28, 'JFT_01378.jpg': 28, 'JFT_01379.jpg': 28, 'JFT_01380.jpg': 28, 'JFT_01381.jpg': 28, 'JFT_01383.jpg': 28, 'JFT_01384.jpg': 28, 'JFT_01385.jpg': 28, 'JFT_01386.jpg': 28, 'JFT_01387.jpg': 28, 'JFT_01388.jpg': 28, 'JFT_01390.jpg': 28, 'JFT_01391.jpg': 28, 'JFT_01393.jpg': 28, 'JFT_01394.jpg': 28, 'JFT_01397.jpg': 28, 'JFT_01399.jpg': 28, 'JFT_01400.jpg': 28, 'JFT_01401.jpg': 28, 'JFT_01402.jpg': 28, 'JFT_01403.jpg': 28, 'JFT_01405.jpg': 29, 'JFT_01407.jpg': 29, 'JFT_01409.jpg': 29, 'JFT_01411.jpg': 29, 'JFT_01412.jpg': 29, 'JFT_01413.jpg': 29, 'JFT_01415.jpg': 29, 'JFT_01417.jpg': 29, 'JFT_01419.jpg': 29, 'JFT_01420.jpg': 29, 'JFT_01422.jpg': 29, 'JFT_01423.jpg': 29, 'JFT_01426.jpg': 29, 'JFT_01427.jpg': 29, 'JFT_01429.jpg': 29, 'JFT_01430.jpg': 29, 'JFT_01431.jpg': 29, 'JFT_01433.jpg': 29, 'JFT_01434.jpg': 29, 'JFT_01435.jpg': 29, 'JFT_01436.jpg': 29, 'JFT_01437.jpg': 29, 'JFT_01438.jpg': 29, 'JFT_01439.jpg': 29, 'JFT_01440.jpg': 29, 'JFT_01441.jpg': 29, 'JFT_01442.jpg': 29, 'JFT_01443.jpg': 29, 'JFT_01444.jpg': 29, 'JFT_01446.jpg': 29, 'JFT_01447.jpg': 29, 'JFT_01449.jpg': 29, 'JFT_01452.jpg': 29, 'JFT_01453.jpg': 29, 'JFT_01454.jpg': 29, 'JFT_01456.jpg': 29, 'JFT_01457.jpg': 29, 'JFT_01458.jpg': 29, 'JFT_01460.jpg': 29, 'JFT_01461.jpg': 29, 'JFT_01464.jpg': 29, 'JFT_01465.jpg': 29, 'JFT_01467.jpg': 29, 'JFT_01470.jpg': 30, 'JFT_01472.jpg': 30, 'JFT_01476.jpg': 30, 'JFT_01477.jpg': 30}\n"
     ]
    }
   ],
   "source": [
    "dataset_path='classlabels.txt'\n",
    "images_labels={}\n",
    "with open(dataset_path) as f:\n",
    "        data = f.read().splitlines()\n",
    "        for d in data:\n",
    "            images_labels[d.split(' ')[0].rstrip(\",\")]=int(d.split(' ')[1])\n",
    "print(images_labels)"
   ]
  },
  {
   "cell_type": "markdown",
   "metadata": {
    "colab_type": "text",
    "id": "f7hHdiVFq_zr"
   },
   "source": [
    "#### Load the training and validaton images and their corresponding labels as numpy arrays"
   ]
  },
  {
   "cell_type": "code",
   "execution_count": 0,
   "metadata": {
    "colab": {},
    "colab_type": "code",
    "id": "lgp2EsX_03_i"
   },
   "outputs": [],
   "source": [
    "train_image = []\n",
    "train_label = []\n",
    "training_array=[str(item).zfill(5) for item in training_array]\n",
    "validation_image = []\n",
    "validation_label = []\n",
    "validation_array=[str(item).zfill(5) for item in validation_array]\n",
    "\n",
    "for i in range(len(training_array)):\n",
    "    img1 = image.load_img('/content/drive/My Drive/Assignment2_Images/jpg/'+'JFT_'+training_array[i]+'.jpg',target_size=(32,32,3))\n",
    "    img1 = image.img_to_array(img1)\n",
    "    img1 = img1/255\n",
    "    train_image.append(img1)\n",
    "    train_label.append(images_labels['JFT_'+training_array[i]+'.jpg']-1)\n",
    "training_images = np.array(train_image)\n",
    "training_labels = np.array(train_label)\n",
    "\n",
    "for i in range(len(validation_array)):\n",
    "    img2 = image.load_img('/content/drive/My Drive/Assignment2_Images/jpg/'+'JFT_'+validation_array[i]+'.jpg',target_size=(32,32,3))\n",
    "    img2 = image.img_to_array(img2)\n",
    "    img2 = img2/255\n",
    "    validation_image.append(img2)\n",
    "    validation_label.append(images_labels['JFT_'+validation_array[i]+'.jpg']-1)\n",
    "validation_images = np.array(validation_image)\n",
    "validation_labels = np.array(validation_label)\n",
    "\n"
   ]
  },
  {
   "cell_type": "code",
   "execution_count": 16,
   "metadata": {
    "colab": {
     "base_uri": "https://localhost:8080/",
     "height": 52
    },
    "colab_type": "code",
    "id": "IO4Oh9HRUXYC",
    "outputId": "dd61e9c0-5518-4246-e20a-f8e92a6cabb1"
   },
   "outputs": [
    {
     "name": "stdout",
     "output_type": "stream",
     "text": [
      "921\n",
      "279\n"
     ]
    }
   ],
   "source": [
    "print(len(training_images))\n",
    "print(len(validation_images))\n"
   ]
  },
  {
   "cell_type": "markdown",
   "metadata": {
    "colab_type": "text",
    "id": "Ae5u3TJKrL4y"
   },
   "source": [
    "#### Check if data is loaded properly"
   ]
  },
  {
   "cell_type": "code",
   "execution_count": 11,
   "metadata": {
    "colab": {
     "base_uri": "https://localhost:8080/",
     "height": 101
    },
    "colab_type": "code",
    "id": "EE0AZkHO8aW9",
    "outputId": "bbafd23c-d4f4-496e-9b0c-33a90bfd1ff2"
   },
   "outputs": [
    {
     "data": {
      "image/png": "[encoded data removed]",
      "text/plain": [
       "<Figure size 72x72 with 2 Axes>"
      ]
     },
     "metadata": {
      "tags": []
     },
     "output_type": "display_data"
    }
   ],
   "source": [
    "plt.figure(figsize = (1,1))\n",
    "img1 = training_images[1]\n",
    "plt.imshow(img1)\n",
    "plt.colorbar()\n",
    "plt.grid(False)"
   ]
  },
  {
   "cell_type": "code",
   "execution_count": 17,
   "metadata": {
    "colab": {
     "base_uri": "https://localhost:8080/",
     "height": 35
    },
    "colab_type": "code",
    "id": "kNyMzwGVSmLS",
    "outputId": "41411955-a351-4c37-ed01-339e6312f154"
   },
   "outputs": [
    {
     "data": {
      "text/plain": [
       "(32, 32, 3)"
      ]
     },
     "execution_count": 17,
     "metadata": {
      "tags": []
     },
     "output_type": "execute_result"
    }
   ],
   "source": [
    "training_images.shape[1:]"
   ]
  },
  {
   "cell_type": "markdown",
   "metadata": {
    "colab_type": "text",
    "id": "SpeocYReApkI"
   },
   "source": [
    "###IDentifying Baseline accuracy"
   ]
  },
  {
   "cell_type": "markdown",
   "metadata": {
    "colab_type": "text",
    "id": "kNcZWGcmsmTW"
   },
   "source": [
    "### Model Development"
   ]
  },
  {
   "cell_type": "code",
   "execution_count": 0,
   "metadata": {
    "colab": {},
    "colab_type": "code",
    "id": "PPubp900MXOt"
   },
   "outputs": [],
   "source": [
    "    model = Sequential()\n",
    "    model.add(Conv2D(64, (3, 3), padding='same', input_shape=training_images.shape[1:]))\n",
    "    model.add(Activation('relu'))\n",
    "    model.add(Conv2D(32,(3, 3)))\n",
    "    model.add(Activation('relu'))\n",
    "    model.add(MaxPooling2D(pool_size=(2, 2)))\n",
    "    model.add(Dropout(0.25))\n",
    " \n",
    "    model.add(Conv2D(64, (3, 3), padding='same'))\n",
    "    model.add(Activation('relu'))\n",
    "    model.add(Conv2D(32, (3,3)))\n",
    "    model.add(Activation('relu'))\n",
    "    model.add(MaxPooling2D(pool_size=(2, 2)))\n",
    "    model.add(Dropout(0.25))\n",
    "    \n",
    "    model.add(Conv2D(32, (3, 3), padding='same'))\n",
    "    model.add(Activation('relu'))\n",
    "    model.add(Conv2D(32, (3,3)))\n",
    "    model.add(Activation('relu'))\n",
    "    model.add(MaxPooling2D(pool_size=(2, 2)))\n",
    "    model.add(Dropout(0.25))\n",
    " \n",
    "    model.add(Flatten())\n",
    "    model.add(Dense(512))\n",
    "    model.add(Activation('relu'))\n",
    "    model.add(Dropout(0.5))\n",
    "# Output classes are 10\n",
    "    model.add(Dense(30)) \n",
    "    model.add(Activation('softmax'))"
   ]
  },
  {
   "cell_type": "code",
   "execution_count": 36,
   "metadata": {
    "colab": {
     "base_uri": "https://localhost:8080/",
     "height": 971
    },
    "colab_type": "code",
    "id": "ZFmYwUEW2F2h",
    "outputId": "31261c2b-ff58-4d94-a4d3-9d2ae53bd913"
   },
   "outputs": [
    {
     "name": "stdout",
     "output_type": "stream",
     "text": [
      "_________________________________________________________________\n",
      "Layer (type)                 Output Shape              Param #   \n",
      "=================================================================\n",
      "conv2d_19 (Conv2D)           (None, 32, 32, 64)        1792      \n",
      "_________________________________________________________________\n",
      "activation_25 (Activation)   (None, 32, 32, 64)        0         \n",
      "_________________________________________________________________\n",
      "conv2d_20 (Conv2D)           (None, 30, 30, 32)        18464     \n",
      "_________________________________________________________________\n",
      "activation_26 (Activation)   (None, 30, 30, 32)        0         \n",
      "_________________________________________________________________\n",
      "max_pooling2d_10 (MaxPooling (None, 15, 15, 32)        0         \n",
      "_________________________________________________________________\n",
      "dropout_13 (Dropout)         (None, 15, 15, 32)        0         \n",
      "_________________________________________________________________\n",
      "conv2d_21 (Conv2D)           (None, 15, 15, 64)        18496     \n",
      "_________________________________________________________________\n",
      "activation_27 (Activation)   (None, 15, 15, 64)        0         \n",
      "_________________________________________________________________\n",
      "conv2d_22 (Conv2D)           (None, 13, 13, 32)        18464     \n",
      "_________________________________________________________________\n",
      "activation_28 (Activation)   (None, 13, 13, 32)        0         \n",
      "_________________________________________________________________\n",
      "max_pooling2d_11 (MaxPooling (None, 6, 6, 32)          0         \n",
      "_________________________________________________________________\n",
      "dropout_14 (Dropout)         (None, 6, 6, 32)          0         \n",
      "_________________________________________________________________\n",
      "conv2d_23 (Conv2D)           (None, 6, 6, 32)          9248      \n",
      "_________________________________________________________________\n",
      "activation_29 (Activation)   (None, 6, 6, 32)          0         \n",
      "_________________________________________________________________\n",
      "conv2d_24 (Conv2D)           (None, 4, 4, 32)          9248      \n",
      "_________________________________________________________________\n",
      "activation_30 (Activation)   (None, 4, 4, 32)          0         \n",
      "_________________________________________________________________\n",
      "max_pooling2d_12 (MaxPooling (None, 2, 2, 32)          0         \n",
      "_________________________________________________________________\n",
      "dropout_15 (Dropout)         (None, 2, 2, 32)          0         \n",
      "_________________________________________________________________\n",
      "flatten_4 (Flatten)          (None, 128)               0         \n",
      "_________________________________________________________________\n",
      "dense_7 (Dense)              (None, 512)               66048     \n",
      "_________________________________________________________________\n",
      "activation_31 (Activation)   (None, 512)               0         \n",
      "_________________________________________________________________\n",
      "dropout_16 (Dropout)         (None, 512)               0         \n",
      "_________________________________________________________________\n",
      "dense_8 (Dense)              (None, 30)                15390     \n",
      "_________________________________________________________________\n",
      "activation_32 (Activation)   (None, 30)                0         \n",
      "=================================================================\n",
      "Total params: 157,150\n",
      "Trainable params: 157,150\n",
      "Non-trainable params: 0\n",
      "_________________________________________________________________\n"
     ]
    }
   ],
   "source": [
    "model.summary()"
   ]
  },
  {
   "cell_type": "code",
   "execution_count": 0,
   "metadata": {
    "colab": {},
    "colab_type": "code",
    "id": "gnZYn9TDPFkS"
   },
   "outputs": [],
   "source": [
    "model.compile(optimizer=tf.train.AdamOptimizer(), \n",
    "              loss='sparse_categorical_crossentropy',\n",
    "              metrics=['accuracy'])"
   ]
  },
  {
   "cell_type": "code",
   "execution_count": 43,
   "metadata": {
    "colab": {
     "base_uri": "https://localhost:8080/",
     "height": 3501
    },
    "colab_type": "code",
    "id": "-2b3IO4xPNOr",
    "outputId": "9f990e84-e389-4836-862d-c3677deddb5e"
   },
   "outputs": [
    {
     "name": "stdout",
     "output_type": "stream",
     "text": [
      "Train on 921 samples, validate on 279 samples\n",
      "Epoch 1/100\n",
      "921/921 [==============================] - 5s 6ms/step - loss: 0.2470 - acc: 0.9175 - val_loss: 0.7202 - val_acc: 0.8208\n",
      "Epoch 2/100\n",
      "921/921 [==============================] - 6s 6ms/step - loss: 0.2025 - acc: 0.9392 - val_loss: 0.6766 - val_acc: 0.8280\n",
      "Epoch 3/100\n",
      "921/921 [==============================] - 6s 6ms/step - loss: 0.1693 - acc: 0.9479 - val_loss: 0.7559 - val_acc: 0.8280\n",
      "Epoch 4/100\n",
      "921/921 [==============================] - 6s 6ms/step - loss: 0.2072 - acc: 0.9197 - val_loss: 0.8272 - val_acc: 0.8100\n",
      "Epoch 5/100\n",
      "921/921 [==============================] - 6s 6ms/step - loss: 0.2377 - acc: 0.9131 - val_loss: 0.7057 - val_acc: 0.8208\n",
      "Epoch 6/100\n",
      "921/921 [==============================] - 6s 6ms/step - loss: 0.2281 - acc: 0.9229 - val_loss: 0.7523 - val_acc: 0.8100\n",
      "Epoch 7/100\n",
      "921/921 [==============================] - 6s 6ms/step - loss: 0.2041 - acc: 0.9240 - val_loss: 0.8759 - val_acc: 0.7957\n",
      "Epoch 8/100\n",
      "921/921 [==============================] - 6s 6ms/step - loss: 0.1928 - acc: 0.9316 - val_loss: 0.7893 - val_acc: 0.8065\n",
      "Epoch 9/100\n",
      "921/921 [==============================] - 6s 6ms/step - loss: 0.2072 - acc: 0.9273 - val_loss: 0.9042 - val_acc: 0.7957\n",
      "Epoch 10/100\n",
      "921/921 [==============================] - 6s 6ms/step - loss: 0.1879 - acc: 0.9305 - val_loss: 0.7435 - val_acc: 0.8351\n",
      "Epoch 11/100\n",
      "921/921 [==============================] - 6s 6ms/step - loss: 0.1729 - acc: 0.9273 - val_loss: 0.7249 - val_acc: 0.8100\n",
      "Epoch 12/100\n",
      "921/921 [==============================] - 6s 6ms/step - loss: 0.1897 - acc: 0.9359 - val_loss: 1.0417 - val_acc: 0.7921\n",
      "Epoch 13/100\n",
      "921/921 [==============================] - 6s 6ms/step - loss: 0.2906 - acc: 0.8979 - val_loss: 0.9787 - val_acc: 0.7742\n",
      "Epoch 14/100\n",
      "921/921 [==============================] - 6s 6ms/step - loss: 0.2984 - acc: 0.8936 - val_loss: 0.9274 - val_acc: 0.8100\n",
      "Epoch 15/100\n",
      "921/921 [==============================] - 6s 6ms/step - loss: 0.2474 - acc: 0.9175 - val_loss: 0.8504 - val_acc: 0.8065\n",
      "Epoch 16/100\n",
      "921/921 [==============================] - 6s 6ms/step - loss: 0.2227 - acc: 0.9142 - val_loss: 0.7293 - val_acc: 0.8172\n",
      "Epoch 17/100\n",
      "921/921 [==============================] - 6s 6ms/step - loss: 0.2132 - acc: 0.9131 - val_loss: 0.7554 - val_acc: 0.8136\n",
      "Epoch 18/100\n",
      "921/921 [==============================] - 6s 6ms/step - loss: 0.1852 - acc: 0.9349 - val_loss: 0.7141 - val_acc: 0.8208\n",
      "Epoch 19/100\n",
      "921/921 [==============================] - 6s 6ms/step - loss: 0.1803 - acc: 0.9359 - val_loss: 0.7269 - val_acc: 0.8244\n",
      "Epoch 20/100\n",
      "921/921 [==============================] - 6s 6ms/step - loss: 0.1572 - acc: 0.9435 - val_loss: 0.8717 - val_acc: 0.8136\n",
      "Epoch 21/100\n",
      "921/921 [==============================] - 6s 6ms/step - loss: 0.1731 - acc: 0.9414 - val_loss: 0.7673 - val_acc: 0.8315\n",
      "Epoch 22/100\n",
      "921/921 [==============================] - 6s 6ms/step - loss: 0.1838 - acc: 0.9403 - val_loss: 0.8651 - val_acc: 0.8065\n",
      "Epoch 23/100\n",
      "921/921 [==============================] - 6s 6ms/step - loss: 0.2986 - acc: 0.8958 - val_loss: 0.8530 - val_acc: 0.7921\n",
      "Epoch 24/100\n",
      "921/921 [==============================] - 6s 6ms/step - loss: 0.2191 - acc: 0.9229 - val_loss: 0.8348 - val_acc: 0.7921\n",
      "Epoch 25/100\n",
      "921/921 [==============================] - 6s 6ms/step - loss: 0.2223 - acc: 0.9175 - val_loss: 0.7365 - val_acc: 0.8100\n",
      "Epoch 26/100\n",
      "921/921 [==============================] - 6s 6ms/step - loss: 0.1953 - acc: 0.9283 - val_loss: 0.8016 - val_acc: 0.7957\n",
      "Epoch 27/100\n",
      "921/921 [==============================] - 6s 6ms/step - loss: 0.2245 - acc: 0.9218 - val_loss: 0.7635 - val_acc: 0.8172\n",
      "Epoch 28/100\n",
      "921/921 [==============================] - 6s 6ms/step - loss: 0.1374 - acc: 0.9446 - val_loss: 0.7560 - val_acc: 0.8065\n",
      "Epoch 29/100\n",
      "921/921 [==============================] - 6s 6ms/step - loss: 0.2009 - acc: 0.9218 - val_loss: 0.7623 - val_acc: 0.8208\n",
      "Epoch 30/100\n",
      "921/921 [==============================] - 6s 6ms/step - loss: 0.1963 - acc: 0.9294 - val_loss: 0.8051 - val_acc: 0.8351\n",
      "Epoch 31/100\n",
      "921/921 [==============================] - 6s 6ms/step - loss: 0.1526 - acc: 0.9457 - val_loss: 0.8460 - val_acc: 0.7993\n",
      "Epoch 32/100\n",
      "921/921 [==============================] - 6s 6ms/step - loss: 0.2047 - acc: 0.9316 - val_loss: 0.7679 - val_acc: 0.8244\n",
      "Epoch 33/100\n",
      "921/921 [==============================] - 6s 6ms/step - loss: 0.1954 - acc: 0.9349 - val_loss: 0.8747 - val_acc: 0.7814\n",
      "Epoch 34/100\n",
      "921/921 [==============================] - 6s 6ms/step - loss: 0.2430 - acc: 0.9121 - val_loss: 1.1236 - val_acc: 0.7634\n",
      "Epoch 35/100\n",
      "921/921 [==============================] - 6s 6ms/step - loss: 0.2638 - acc: 0.9012 - val_loss: 0.7480 - val_acc: 0.7921\n",
      "Epoch 36/100\n",
      "921/921 [==============================] - 6s 6ms/step - loss: 0.2051 - acc: 0.9207 - val_loss: 0.8628 - val_acc: 0.7921\n",
      "Epoch 37/100\n",
      "921/921 [==============================] - 6s 6ms/step - loss: 0.1796 - acc: 0.9435 - val_loss: 0.7983 - val_acc: 0.8172\n",
      "Epoch 38/100\n",
      "921/921 [==============================] - 6s 6ms/step - loss: 0.1822 - acc: 0.9338 - val_loss: 0.8037 - val_acc: 0.8172\n",
      "Epoch 39/100\n",
      "921/921 [==============================] - 6s 6ms/step - loss: 0.1664 - acc: 0.9403 - val_loss: 0.8580 - val_acc: 0.8029\n",
      "Epoch 40/100\n",
      "921/921 [==============================] - 6s 6ms/step - loss: 0.1375 - acc: 0.9490 - val_loss: 0.7656 - val_acc: 0.7957\n",
      "Epoch 41/100\n",
      "921/921 [==============================] - 6s 6ms/step - loss: 0.1876 - acc: 0.9359 - val_loss: 0.8643 - val_acc: 0.7993\n",
      "Epoch 42/100\n",
      "921/921 [==============================] - 6s 6ms/step - loss: 0.1450 - acc: 0.9359 - val_loss: 0.7711 - val_acc: 0.8244\n",
      "Epoch 43/100\n",
      "921/921 [==============================] - 6s 6ms/step - loss: 0.1398 - acc: 0.9446 - val_loss: 0.8594 - val_acc: 0.8244\n",
      "Epoch 44/100\n",
      "921/921 [==============================] - 6s 6ms/step - loss: 0.1407 - acc: 0.9544 - val_loss: 0.8799 - val_acc: 0.8208\n",
      "Epoch 45/100\n",
      "921/921 [==============================] - 6s 6ms/step - loss: 0.1289 - acc: 0.9533 - val_loss: 0.8624 - val_acc: 0.8172\n",
      "Epoch 46/100\n",
      "921/921 [==============================] - 6s 6ms/step - loss: 0.1350 - acc: 0.9533 - val_loss: 0.8546 - val_acc: 0.8172\n",
      "Epoch 47/100\n",
      "921/921 [==============================] - 6s 6ms/step - loss: 0.1171 - acc: 0.9533 - val_loss: 0.8587 - val_acc: 0.8208\n",
      "Epoch 48/100\n",
      "921/921 [==============================] - 6s 6ms/step - loss: 0.1376 - acc: 0.9501 - val_loss: 0.8737 - val_acc: 0.8208\n",
      "Epoch 49/100\n",
      "921/921 [==============================] - 6s 6ms/step - loss: 0.1354 - acc: 0.9587 - val_loss: 0.9433 - val_acc: 0.8065\n",
      "Epoch 50/100\n",
      "921/921 [==============================] - 6s 6ms/step - loss: 0.1328 - acc: 0.9446 - val_loss: 0.8301 - val_acc: 0.8208\n",
      "Epoch 51/100\n",
      "921/921 [==============================] - 6s 6ms/step - loss: 0.1217 - acc: 0.9511 - val_loss: 0.8990 - val_acc: 0.8172\n",
      "Epoch 52/100\n",
      "921/921 [==============================] - 6s 6ms/step - loss: 0.1480 - acc: 0.9566 - val_loss: 0.7997 - val_acc: 0.8280\n",
      "Epoch 53/100\n",
      "921/921 [==============================] - 6s 6ms/step - loss: 0.1468 - acc: 0.9425 - val_loss: 0.8473 - val_acc: 0.8244\n",
      "Epoch 54/100\n",
      "921/921 [==============================] - 6s 6ms/step - loss: 0.1127 - acc: 0.9685 - val_loss: 0.9207 - val_acc: 0.8100\n",
      "Epoch 55/100\n",
      "921/921 [==============================] - 6s 6ms/step - loss: 0.1519 - acc: 0.9435 - val_loss: 0.8915 - val_acc: 0.8065\n",
      "Epoch 56/100\n",
      "921/921 [==============================] - 6s 6ms/step - loss: 0.1568 - acc: 0.9468 - val_loss: 0.9607 - val_acc: 0.8136\n",
      "Epoch 57/100\n",
      "921/921 [==============================] - 6s 6ms/step - loss: 0.1183 - acc: 0.9598 - val_loss: 0.9542 - val_acc: 0.7921\n",
      "Epoch 58/100\n",
      "921/921 [==============================] - 6s 6ms/step - loss: 0.1295 - acc: 0.9511 - val_loss: 0.8687 - val_acc: 0.8280\n",
      "Epoch 59/100\n",
      "921/921 [==============================] - 6s 6ms/step - loss: 0.1116 - acc: 0.9598 - val_loss: 0.8019 - val_acc: 0.8459\n",
      "Epoch 60/100\n",
      "921/921 [==============================] - 6s 6ms/step - loss: 0.1348 - acc: 0.9577 - val_loss: 0.9022 - val_acc: 0.8208\n",
      "Epoch 61/100\n",
      "921/921 [==============================] - 6s 6ms/step - loss: 0.1435 - acc: 0.9468 - val_loss: 0.8654 - val_acc: 0.8244\n",
      "Epoch 62/100\n",
      "921/921 [==============================] - 6s 6ms/step - loss: 0.1509 - acc: 0.9457 - val_loss: 0.8740 - val_acc: 0.8244\n",
      "Epoch 63/100\n",
      "921/921 [==============================] - 6s 6ms/step - loss: 0.1407 - acc: 0.9577 - val_loss: 0.9394 - val_acc: 0.8244\n",
      "Epoch 64/100\n",
      "921/921 [==============================] - 6s 6ms/step - loss: 0.2125 - acc: 0.9446 - val_loss: 1.0107 - val_acc: 0.7849\n",
      "Epoch 65/100\n",
      "921/921 [==============================] - 6s 6ms/step - loss: 0.1989 - acc: 0.9349 - val_loss: 0.8516 - val_acc: 0.7885\n",
      "Epoch 66/100\n",
      "921/921 [==============================] - 6s 6ms/step - loss: 0.1336 - acc: 0.9587 - val_loss: 0.8483 - val_acc: 0.8244\n",
      "Epoch 67/100\n",
      "921/921 [==============================] - 6s 6ms/step - loss: 0.1282 - acc: 0.9555 - val_loss: 0.9597 - val_acc: 0.8065\n",
      "Epoch 68/100\n",
      "921/921 [==============================] - 6s 6ms/step - loss: 0.1704 - acc: 0.9457 - val_loss: 0.9385 - val_acc: 0.8065\n",
      "Epoch 69/100\n",
      "921/921 [==============================] - 6s 6ms/step - loss: 0.1341 - acc: 0.9490 - val_loss: 1.0140 - val_acc: 0.8172\n",
      "Epoch 70/100\n",
      "921/921 [==============================] - 11s 12ms/step - loss: 0.1842 - acc: 0.9338 - val_loss: 0.8763 - val_acc: 0.8029\n",
      "Epoch 71/100\n",
      "921/921 [==============================] - 9s 10ms/step - loss: 0.1335 - acc: 0.9533 - val_loss: 0.8106 - val_acc: 0.8136\n",
      "Epoch 72/100\n",
      "921/921 [==============================] - 7s 8ms/step - loss: 0.1250 - acc: 0.9566 - val_loss: 0.8118 - val_acc: 0.8208\n",
      "Epoch 73/100\n",
      "921/921 [==============================] - 12s 13ms/step - loss: 0.1459 - acc: 0.9479 - val_loss: 0.8207 - val_acc: 0.8136\n",
      "Epoch 74/100\n",
      "921/921 [==============================] - 12s 13ms/step - loss: 0.1236 - acc: 0.9544 - val_loss: 0.8314 - val_acc: 0.8208\n",
      "Epoch 75/100\n",
      "921/921 [==============================] - 12s 13ms/step - loss: 0.1290 - acc: 0.9501 - val_loss: 0.8555 - val_acc: 0.8315\n",
      "Epoch 76/100\n",
      "921/921 [==============================] - 11s 12ms/step - loss: 0.1423 - acc: 0.9457 - val_loss: 0.8352 - val_acc: 0.8065\n",
      "Epoch 77/100\n",
      "921/921 [==============================] - 12s 13ms/step - loss: 0.0944 - acc: 0.9696 - val_loss: 0.8679 - val_acc: 0.8172\n",
      "Epoch 78/100\n",
      "921/921 [==============================] - 11s 12ms/step - loss: 0.1032 - acc: 0.9674 - val_loss: 0.8224 - val_acc: 0.8208\n",
      "Epoch 79/100\n",
      "921/921 [==============================] - 12s 13ms/step - loss: 0.1240 - acc: 0.9577 - val_loss: 0.8052 - val_acc: 0.8280\n",
      "Epoch 80/100\n",
      "921/921 [==============================] - 12s 13ms/step - loss: 0.1030 - acc: 0.9718 - val_loss: 1.0013 - val_acc: 0.8100\n",
      "Epoch 81/100\n",
      "921/921 [==============================] - 11s 12ms/step - loss: 0.1691 - acc: 0.9338 - val_loss: 0.8811 - val_acc: 0.8208\n",
      "Epoch 82/100\n",
      "921/921 [==============================] - 12s 13ms/step - loss: 0.1239 - acc: 0.9555 - val_loss: 0.9038 - val_acc: 0.8065\n",
      "Epoch 83/100\n",
      "921/921 [==============================] - 12s 13ms/step - loss: 0.1034 - acc: 0.9598 - val_loss: 0.8521 - val_acc: 0.8351\n",
      "Epoch 84/100\n",
      "921/921 [==============================] - 12s 13ms/step - loss: 0.1067 - acc: 0.9674 - val_loss: 0.8668 - val_acc: 0.8280\n",
      "Epoch 85/100\n",
      "921/921 [==============================] - 12s 13ms/step - loss: 0.1168 - acc: 0.9577 - val_loss: 0.9284 - val_acc: 0.8387\n",
      "Epoch 86/100\n",
      "921/921 [==============================] - 12s 13ms/step - loss: 0.0956 - acc: 0.9642 - val_loss: 0.8302 - val_acc: 0.8459\n",
      "Epoch 87/100\n",
      "921/921 [==============================] - 12s 13ms/step - loss: 0.1406 - acc: 0.9468 - val_loss: 0.9387 - val_acc: 0.8136\n",
      "Epoch 88/100\n",
      "921/921 [==============================] - 12s 13ms/step - loss: 0.1003 - acc: 0.9631 - val_loss: 0.8486 - val_acc: 0.8136\n",
      "Epoch 89/100\n",
      "921/921 [==============================] - 11s 12ms/step - loss: 0.1285 - acc: 0.9511 - val_loss: 0.9105 - val_acc: 0.8065\n",
      "Epoch 90/100\n",
      "921/921 [==============================] - 11s 12ms/step - loss: 0.1348 - acc: 0.9577 - val_loss: 0.9622 - val_acc: 0.8280\n",
      "Epoch 91/100\n",
      "921/921 [==============================] - 11s 12ms/step - loss: 0.1299 - acc: 0.9501 - val_loss: 1.0053 - val_acc: 0.8065\n",
      "Epoch 92/100\n",
      "921/921 [==============================] - 12s 12ms/step - loss: 0.1096 - acc: 0.9587 - val_loss: 0.8412 - val_acc: 0.8280\n",
      "Epoch 93/100\n",
      "921/921 [==============================] - 12s 13ms/step - loss: 0.1305 - acc: 0.9653 - val_loss: 0.8821 - val_acc: 0.8065\n",
      "Epoch 94/100\n",
      "921/921 [==============================] - 11s 12ms/step - loss: 0.1133 - acc: 0.9631 - val_loss: 0.8493 - val_acc: 0.8208\n",
      "Epoch 95/100\n",
      "921/921 [==============================] - 11s 12ms/step - loss: 0.1251 - acc: 0.9522 - val_loss: 0.9485 - val_acc: 0.8065\n",
      "Epoch 96/100\n",
      "921/921 [==============================] - 12s 13ms/step - loss: 0.0913 - acc: 0.9718 - val_loss: 0.8469 - val_acc: 0.8172\n",
      "Epoch 97/100\n",
      "921/921 [==============================] - 11s 12ms/step - loss: 0.0940 - acc: 0.9685 - val_loss: 0.8489 - val_acc: 0.8315\n",
      "Epoch 98/100\n",
      "921/921 [==============================] - 11s 12ms/step - loss: 0.1234 - acc: 0.9577 - val_loss: 0.9894 - val_acc: 0.8208\n",
      "Epoch 99/100\n",
      "921/921 [==============================] - 12s 13ms/step - loss: 0.1333 - acc: 0.9522 - val_loss: 0.8955 - val_acc: 0.8065\n",
      "Epoch 100/100\n",
      "921/921 [==============================] - 11s 12ms/step - loss: 0.1700 - acc: 0.9490 - val_loss: 0.8791 - val_acc: 0.7849\n"
     ]
    }
   ],
   "source": [
    "history = model.fit(training_images, training_labels, batch_size=128, \n",
    "                    validation_data = (validation_images, validation_labels), epochs=100)"
   ]
  },
  {
   "cell_type": "markdown",
   "metadata": {
    "colab_type": "text",
    "id": "JAn8cGgsxxHw"
   },
   "source": [
    "###Find the Baseline Accuracy\n",
    "-Identify the class which is common among all the predictions\n",
    "-Calculate the accuracy by dividing the number of predictions of this class with total predictions"
   ]
  },
  {
   "cell_type": "code",
   "execution_count": 72,
   "metadata": {
    "colab": {
     "base_uri": "https://localhost:8080/",
     "height": 52
    },
    "colab_type": "code",
    "id": "0ShJTr6VApNS",
    "outputId": "65211c61-0a7f-40dd-e85d-e508ccd80168"
   },
   "outputs": [
    {
     "name": "stdout",
     "output_type": "stream",
     "text": [
      "The class with maximum predictions under it 11 Total number of predictions 279\n",
      "Baseline Accuracy 0.035842293906810034\n"
     ]
    }
   ],
   "source": [
    "unique, counts = np.unique(validation_labels, return_counts=True)\n",
    "validation_labels_dict=dict(zip(unique, counts))\n",
    "\n",
    "maximum = max(validation_labels_dict, key=validation_labels_dict.get)  \n",
    "print(\"The class with maximum predictions under it\",validation_labels_dict[maximum]+1,\"Total number of predictions\",sum(validation_labels_dict.values()))\n",
    "print(\"Baseline Accuracy\",validation_labels_dict[maximum]/sum(validation_labels_dict.values()))"
   ]
  },
  {
   "cell_type": "markdown",
   "metadata": {
    "colab_type": "text",
    "id": "je0Ga5fttZAJ"
   },
   "source": [
    "###Model Performance"
   ]
  },
  {
   "cell_type": "code",
   "execution_count": 73,
   "metadata": {
    "colab": {
     "base_uri": "https://localhost:8080/",
     "height": 35
    },
    "colab_type": "code",
    "id": "2nD1CyKvztzk",
    "outputId": "532b64fd-6565-4753-ee14-1d12db3393a0"
   },
   "outputs": [
    {
     "name": "stdout",
     "output_type": "stream",
     "text": [
      "baseline model minimum accuracy: 0.8458781370552637\n"
     ]
    }
   ],
   "source": [
    "print(\"Model maximum accuracy:\",max(history.history['val_acc']))"
   ]
  },
  {
   "cell_type": "markdown",
   "metadata": {
    "colab_type": "text",
    "id": "c1Xe6cpUatyU"
   },
   "source": [
    "The model seems to produce maximum validation accuracy of 84% which is much higher than the baseline accuracy of 3%.There seems to be no overfitting."
   ]
  },
  {
   "cell_type": "code",
   "execution_count": 45,
   "metadata": {
    "colab": {
     "base_uri": "https://localhost:8080/",
     "height": 545
    },
    "colab_type": "code",
    "id": "aLvW705UtLEO",
    "outputId": "b03609d4-4cb1-4ff8-e854-1f7595cd779b"
   },
   "outputs": [
    {
     "data": {
      "image/png": "[encoded data removed]",
      "text/plain": [
       "<Figure size 432x288 with 1 Axes>"
      ]
     },
     "metadata": {
      "tags": []
     },
     "output_type": "display_data"
    },
    {
     "data": {
      "image/png": "[encoded data removed]",
      "text/plain": [
       "<Figure size 432x288 with 1 Axes>"
      ]
     },
     "metadata": {
      "tags": []
     },
     "output_type": "display_data"
    }
   ],
   "source": [
    "acc = history.history['acc']\n",
    "val_acc = history.history['val_acc']\n",
    "loss = history.history['loss']\n",
    "val_loss = history.history['val_loss']\n",
    " \n",
    "epochs = range(len(acc))\n",
    " \n",
    "plt.plot(epochs, acc, 'b', label='Training accuracy')\n",
    "plt.plot(epochs, val_acc, 'r', label='Validation accuracy')\n",
    "plt.title('Training and validation accuracy')\n",
    "plt.legend()\n",
    "plt.ylim([0, 1])\n",
    " \n",
    "plt.figure()\n",
    " \n",
    "plt.plot(epochs, loss, 'b', label='Training loss')\n",
    "plt.plot(epochs, val_loss, 'r', label='Validation loss')\n",
    "plt.title('Training and validation loss')\n",
    "plt.legend()\n",
    "plt.ylim([0, 1])\n",
    " \n",
    "plt.show()"
   ]
  }
 ],
 "metadata": {
  "colab": {
   "collapsed_sections": [],
   "name": "Assignment2_Qn1.ipynb",
   "provenance": [],
   "version": "0.3.2"
  },
  "kernelspec": {
   "display_name": "Python 3",
   "language": "python",
   "name": "python3"
  },
  "language_info": {
   "codemirror_mode": {
    "name": "ipython",
    "version": 3
   },
   "file_extension": ".py",
   "mimetype": "text/x-python",
   "name": "python",
   "nbconvert_exporter": "python",
   "pygments_lexer": "ipython3",
   "version": "3.6.5"
  }
 },
 "nbformat": 4,
 "nbformat_minor": 1
}
